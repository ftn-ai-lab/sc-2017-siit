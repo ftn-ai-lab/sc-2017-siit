{
 "cells": [
  {
   "cell_type": "markdown",
   "metadata": {},
   "source": [
    "Autor: Vladimir Indjic, SW 4/2014"
   ]
  },
  {
   "cell_type": "markdown",
   "metadata": {},
   "source": [
    "# Citanje teksta napisanog u vise redova"
   ]
  },
  {
   "cell_type": "markdown",
   "metadata": {},
   "source": [
    "## 1. Priprema"
   ]
  },
  {
   "cell_type": "markdown",
   "metadata": {},
   "source": [
    "### Neophodne biblioteke"
   ]
  },
  {
   "cell_type": "code",
   "execution_count": 1,
   "metadata": {},
   "outputs": [
    {
     "name": "stderr",
     "output_type": "stream",
     "text": [
      "Using Theano backend.\n"
     ]
    }
   ],
   "source": [
    "from __future__ import print_function\n",
    "#import potrebnih biblioteka\n",
    "import cv2\n",
    "import collections\n",
    "\n",
    "# keras\n",
    "from keras.models import Sequential\n",
    "from keras.layers.core import Dense,Activation\n",
    "from keras.optimizers import SGD\n",
    "\n",
    "#Sklearn biblioteka sa implementiranim K-means algoritmom\n",
    "from sklearn import datasets\n",
    "from sklearn.cluster import KMeans\n",
    "\n",
    "%matplotlib inline\n",
    "import numpy as np\n",
    "import matplotlib.pylab as plt\n",
    "plt.rcParams['figure.figsize'] = 16, 12"
   ]
  },
  {
   "cell_type": "markdown",
   "metadata": {},
   "source": [
    "### Funkcije za rad sa slikom"
   ]
  },
  {
   "cell_type": "code",
   "execution_count": 2,
   "metadata": {
    "collapsed": true
   },
   "outputs": [],
   "source": [
    "#Funkcionalnost implementirana u V1\n",
    "def load_image(path):\n",
    "    return cv2.cvtColor(cv2.imread(path), cv2.COLOR_BGR2RGB)\n",
    "def image_gray(image):\n",
    "    return cv2.cvtColor(image, cv2.COLOR_RGB2GRAY)\n",
    "def image_bin(image_gs):\n",
    "    ret,image_bin = cv2.threshold(image_gs, 127, 255, cv2.THRESH_BINARY)\n",
    "    return image_bin\n",
    "def invert(image):\n",
    "    return 255-image\n",
    "def display_image(image, color= False):\n",
    "    if color:\n",
    "        plt.imshow(image)\n",
    "    else:\n",
    "        plt.imshow(image, 'gray')\n",
    "def dilate(image):\n",
    "    kernel = np.ones((3,3)) # strukturni element 3x3 blok\n",
    "    return cv2.dilate(image, kernel, iterations=1)\n",
    "def erode(image):\n",
    "    kernel = np.ones((3,3)) # strukturni element 3x3 blok\n",
    "    return cv2.erode(image, kernel, iterations=1)"
   ]
  },
  {
   "cell_type": "markdown",
   "metadata": {},
   "source": [
    "### Funkcije koje olaksavaju rad sa neuronskom mrezom"
   ]
  },
  {
   "cell_type": "code",
   "execution_count": 3,
   "metadata": {
    "collapsed": true
   },
   "outputs": [],
   "source": [
    "#Funkcionalnost implementirana u OCR basic\n",
    "def resize_region(region):\n",
    "    resized = cv2.resize(region,(28,28), interpolation = cv2.INTER_NEAREST)\n",
    "    return resized\n",
    "def scale_to_range(image):\n",
    "    return image / 255\n",
    "def matrix_to_vector(image):\n",
    "    return image.flatten()\n",
    "def prepare_for_ann(regions):\n",
    "    ready_for_ann = []\n",
    "    for region in regions:\n",
    "        ready_for_ann.append(matrix_to_vector(scale_to_range(region)))\n",
    "    return ready_for_ann\n",
    "def convert_output(outputs):\n",
    "    return np.eye(len(outputs))\n",
    "def winner(output):\n",
    "    return max(enumerate(output), key=lambda x: x[1])[0]"
   ]
  },
  {
   "cell_type": "markdown",
   "metadata": {},
   "source": [
    "### Manipulacija regionima"
   ]
  },
  {
   "cell_type": "code",
   "execution_count": 4,
   "metadata": {
    "collapsed": true
   },
   "outputs": [],
   "source": [
    "def select_roi(image_orig, image_bin):\n",
    "    \"\"\"\n",
    "        Funkcija zaduzena za izdvajanje regiona i njihovo iscrtavanje na slici\n",
    "    \"\"\"\n",
    "    img, contours, hierarchy = cv2.findContours(image_bin.copy(), cv2.RETR_EXTERNAL, cv2.CHAIN_APPROX_SIMPLE)\n",
    "    #Način određivanja kontura je promenjen na spoljašnje konture: cv2.RETR_EXTERNAL\n",
    "    regions_array = []\n",
    "    for contour in contours: \n",
    "        x,y,w,h = cv2.boundingRect(contour)\n",
    "        region = image_bin[y:y+h+1,x:x+w+1];\n",
    "        regions_array.append([resize_region(region), (x,y,w,h)])\n",
    "        cv2.rectangle(image_orig,(x,y),(x+w,y+h),(0,255,0),2)\n",
    "    \n",
    "    return image_orig, regions_array\n",
    "    \n",
    "def sort_x_axis(regions_array):    \n",
    "    \"\"\"\n",
    "        Funkcija zaduzena za sortiranje regiona po x osi i \n",
    "        odredjivanje distance po istoj za svaki par susednih regiona. \n",
    "    \"\"\"\n",
    "    regions_array = sorted(regions_array, key=lambda item: item[1][0])\n",
    "    sorted_regions = [region[0] for region in regions_array]\n",
    "    sorted_rectangles = [region[1] for region in regions_array]\n",
    "    region_distances = []\n",
    "    # Izdvojiti sortirane parametre opisujućih pravougaonika\n",
    "    # Izračunati rastojanja između svih susednih regiona po x osi i dodati ih u region_distances niz\n",
    "    for index in range(0, len(sorted_rectangles)-1):\n",
    "        current = sorted_rectangles[index]\n",
    "        next_rect = sorted_rectangles[index+1]\n",
    "        distance = next_rect[0] - (current[0]+current[2]) #X_next - (X_current + W_current)\n",
    "        region_distances.append(distance)\n",
    "\n",
    "    return regions_array, sorted_regions, region_distances\n",
    "\n",
    "def sort_y_axis(regions_array):    \n",
    "    \"\"\"\n",
    "        Funkcija zaduzena za sortiranje regiona po y osi i \n",
    "        odredjivanje distance po istoj za svaki par susednih regiona. \n",
    "    \"\"\"\n",
    "    regions_array = sorted(regions_array, key=lambda item: item[1][1])\n",
    "    sorted_regions = [region[0] for region in regions_array]\n",
    "    sorted_rectangles = [region[1] for region in regions_array]\n",
    "    region_distances = []\n",
    "    # Izdvojiti sortirane parametre opisujućih pravougaonika\n",
    "    # Izračunati rastojanja između svih susednih regiona po x osi i dodati ih u region_distances niz\n",
    "    for index in range(0, len(sorted_rectangles)-1):\n",
    "        current = sorted_rectangles[index]\n",
    "        next_rect = sorted_rectangles[index+1]\n",
    "        distance = abs(next_rect[1] - current[1]) # oduzimamo vrhove\n",
    "        region_distances.append(distance)\n",
    "\n",
    "    return regions_array, sorted_regions, region_distances"
   ]
  },
  {
   "cell_type": "markdown",
   "metadata": {},
   "source": [
    "### Kreiranje i treniranje neuronske mreze"
   ]
  },
  {
   "cell_type": "code",
   "execution_count": 5,
   "metadata": {
    "collapsed": true
   },
   "outputs": [],
   "source": [
    "def create_ann(alphabet):\n",
    "    '''\n",
    "    Implementirati veštačku neuronsku mrežu sa 28x28 ulaznih neurona i jednim skrivenim slojem od 128 neurona.\n",
    "    Odrediti broj izlaznih neurona. Aktivaciona funkcija je sigmoid.\n",
    "    '''\n",
    "    ann = Sequential()\n",
    "    # Postaviti slojeve neurona mreže 'ann'\n",
    "    ann.add(Dense(128, input_dim=784, activation='sigmoid'))\n",
    "    ann.add(Dense(len(alphabet), activation='sigmoid'))\n",
    "    return ann\n",
    "    \n",
    "def train_ann(ann, X_train, y_train):\n",
    "    X_train = np.array(X_train, np.float32)\n",
    "    y_train = np.array(y_train, np.float32)\n",
    "   \n",
    "    # definisanje parametra algoritma za obucavanje\n",
    "    sgd = SGD(lr=0.01, momentum=0.9)\n",
    "    ann.compile(loss='mean_squared_error', optimizer=sgd)\n",
    "\n",
    "    # obucavanje neuronske mreze\n",
    "    ann.fit(X_train, y_train, epochs=500, batch_size=1, verbose = 0, shuffle=False) \n",
    "      \n",
    "    return ann"
   ]
  },
  {
   "cell_type": "markdown",
   "metadata": {},
   "source": [
    "### K-Means algoritam, gde je k = 2"
   ]
  },
  {
   "cell_type": "code",
   "execution_count": 6,
   "metadata": {
    "collapsed": true
   },
   "outputs": [],
   "source": [
    "def apply_k_means(distances):\n",
    "    \"\"\"\n",
    "        Funkcija koja trenira K-Means objekat i vraca ga.\n",
    "    \"\"\"\n",
    "    #Podešavanje centara grupa K-means algoritmom\n",
    "    distances = np.array(distances).reshape(len(distances), 1)\n",
    "    #Neophodno je da u K-means algoritam bude prosleđena matrica u kojoj vrste određuju elemente\n",
    "    k_means = KMeans(n_clusters=2, max_iter=2000, tol=0.00001, n_init=10)\n",
    "    k_means.fit(distances)\n",
    "    return k_means"
   ]
  },
  {
   "cell_type": "markdown",
   "metadata": {},
   "source": [
    "### Podela karaktera u redove primenom K-Means algoritma"
   ]
  },
  {
   "cell_type": "code",
   "execution_count": 7,
   "metadata": {
    "collapsed": true
   },
   "outputs": [],
   "source": [
    "def separate_in_rows(characters_regions):\n",
    "    \"\"\"\n",
    "        Podela prepoznatih regiona sa slovima na redove.\n",
    "    \"\"\"\n",
    "    # sortiranje po y-osi\n",
    "    character_regions, regions, distances = sort_y_axis(characters_regions)\n",
    "    # primena K-Means algoritm\n",
    "    k_means = apply_k_means(distances)\n",
    "    \n",
    "    rows = [[]] # pretpostavka da ima bar jedan red\n",
    "    current_index = 0 # trenutni red indeksa\n",
    "    # oznaka novog reda\n",
    "    w_space_group = max(enumerate(k_means.cluster_centers_), key = lambda x: x[1])[0]    \n",
    "    rows[0].append(character_regions[0]) # prvo slovo u prvi red\n",
    "    for idx, letter in enumerate(character_regions[1:]):\n",
    "        # kreiranje novog reda\n",
    "        if (k_means.labels_[idx] == w_space_group):\n",
    "            current_index += 1\n",
    "            rows.append([])\n",
    "        # dodavanje regiona sa karakterom u odgovarajuci red    \n",
    "        rows[current_index].append(letter)\n",
    "    # vracamo regione karaktere podeljene u redove\n",
    "    return rows"
   ]
  },
  {
   "cell_type": "markdown",
   "metadata": {},
   "source": [
    "### Podela karaktera u reci primenom K-Means algoritma"
   ]
  },
  {
   "cell_type": "code",
   "execution_count": 8,
   "metadata": {
    "collapsed": true
   },
   "outputs": [],
   "source": [
    "def print_row(row, ann):\n",
    "    \"\"\"\n",
    "        Funkcija koja stampa jedan red teksta.\n",
    "    \"\"\"\n",
    "    # soriranje po x-osi\n",
    "    character_regions, regions, distances = sort_x_axis(row)\n",
    "    # priprema za neuronsku mrezu\n",
    "    inputs = prepare_for_ann(regions)\n",
    "    # predikcija karaktera na osnovu sadrzaja regiona\n",
    "    outputs = ann.predict(np.array(inputs, np.float32))\n",
    "    \n",
    "    # primenjujemo k_means algoritam\n",
    "    k_means = apply_k_means(distances)\n",
    "    \n",
    "    # oznaka razmaka izmedju reci\n",
    "    w_space_group = max(enumerate(k_means.cluster_centers_), key = lambda x: x[1])[0]    \n",
    "    result = alphabet[winner(outputs[0])]\n",
    "    for idx, output in enumerate(outputs[1:,:]):\n",
    "        # Da li treba da se doda razmak\n",
    "        if (k_means.labels_[idx] == w_space_group):\n",
    "            result += ' '\n",
    "        # dodavanje odgovarajuceg slova u tekst\n",
    "        result += alphabet[winner(output)]\n",
    "    return result"
   ]
  },
  {
   "cell_type": "markdown",
   "metadata": {},
   "source": [
    "## 2. Zadatak"
   ]
  },
  {
   "cell_type": "markdown",
   "metadata": {},
   "source": [
    "### Priprema i treniranje neuronske mreze"
   ]
  },
  {
   "cell_type": "code",
   "execution_count": 9,
   "metadata": {},
   "outputs": [
    {
     "data": {
      "image/png": "[encoded data removed]",
      "text/plain": [
       "<matplotlib.figure.Figure at 0x7f719c8c20d0>"
      ]
     },
     "metadata": {},
     "output_type": "display_data"
    }
   ],
   "source": [
    "# Ucitavanje i binarizacija slike alfabeta kalkulatora\n",
    "img_color = load_image('alphabet.png')\n",
    "img_bin = image_bin(image_gray(img_color))\n",
    "\n",
    "# Izdvajanje regiona sa karakterima alfabeta\n",
    "img_selected_regions, characters_regions = select_roi(img_color, img_bin)\n",
    "characters_regions, regions, _ = sort_x_axis(characters_regions) \n",
    "display_image(img_selected_regions, True)\n",
    "\n",
    "# Unosimo alfabet i pripremamo ga za neuronsku mrezu \n",
    "alphabet = ['A','B','C','D','E','F','G','H','I','J','K','L','M','N','O','P','Q','R','S','T','U','V','W','X','Y','Z']\n",
    "outputs = convert_output(alphabet)\n",
    "\n",
    "# Priprema izdvojenih region sa karakterima\n",
    "inputs = prepare_for_ann([region for region in regions])\n",
    "\n",
    "# kreiranje neuronske mreze\n",
    "ann = create_ann(alphabet)\n",
    "# treniranje neuronske mreze\n",
    "ann = train_ann(ann, inputs, outputs)"
   ]
  },
  {
   "cell_type": "markdown",
   "metadata": {},
   "source": [
    "### Izdvajanje regiona sa slovima iz teksta"
   ]
  },
  {
   "cell_type": "code",
   "execution_count": 10,
   "metadata": {},
   "outputs": [
    {
     "data": {
      "image/png": "[encoded data removed]",
      "text/plain": [
       "<matplotlib.figure.Figure at 0x7f714d367650>"
      ]
     },
     "metadata": {},
     "output_type": "display_data"
    }
   ],
   "source": [
    "# Ucitavanje i binarizacija slike sa tekstom\n",
    "img_color = load_image('Dodatni.png')\n",
    "img_bin = image_bin(image_gray(img_color))\n",
    "\n",
    "# Izdvajanje regiona sa slovima\n",
    "img_selected_regions, characters_regions = select_roi(img_color, img_bin)\n",
    "display_image(img_selected_regions, True)\n"
   ]
  },
  {
   "cell_type": "markdown",
   "metadata": {},
   "source": [
    "### Odredjivanje redova"
   ]
  },
  {
   "cell_type": "code",
   "execution_count": 11,
   "metadata": {},
   "outputs": [
    {
     "name": "stdout",
     "output_type": "stream",
     "text": [
      "Broj prepoznatih redova je: 2.\n"
     ]
    }
   ],
   "source": [
    "rows = separate_in_rows(characters_regions)\n",
    "\n",
    "print(\"Broj prepoznatih redova je: %d.\" % (len(rows)))"
   ]
  },
  {
   "cell_type": "markdown",
   "metadata": {},
   "source": [
    "### Odredjivanje reci u redu"
   ]
  },
  {
   "cell_type": "code",
   "execution_count": 12,
   "metadata": {},
   "outputs": [
    {
     "name": "stdout",
     "output_type": "stream",
     "text": [
      "LOREM IPSUM DOLOR SIT AMET\n",
      "CONSECTETUR ADIPISCING ELIT\n"
     ]
    }
   ],
   "source": [
    "for row in rows: \n",
    "    print(print_row(row, ann))"
   ]
  },
  {
   "cell_type": "code",
   "execution_count": null,
   "metadata": {
    "collapsed": true
   },
   "outputs": [],
   "source": []
  }
 ],
 "metadata": {
  "kernelspec": {
   "display_name": "Python 2",
   "language": "python",
   "name": "python2"
  },
  "language_info": {
   "codemirror_mode": {
    "name": "ipython",
    "version": 2
   },
   "file_extension": ".py",
   "mimetype": "text/x-python",
   "name": "python",
   "nbconvert_exporter": "python",
   "pygments_lexer": "ipython2",
   "version": "2.7.11"
  }
 },
 "nbformat": 4,
 "nbformat_minor": 2
}
