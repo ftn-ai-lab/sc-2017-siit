{
 "cells": [
  {
   "cell_type": "markdown",
   "metadata": {},
   "source": [
    "Autor: Vladimir Indjic, SW 4/2014"
   ]
  },
  {
   "cell_type": "markdown",
   "metadata": {},
   "source": [
    "# Kalkulator"
   ]
  },
  {
   "cell_type": "markdown",
   "metadata": {},
   "source": [
    "## 1. Priprema"
   ]
  },
  {
   "cell_type": "markdown",
   "metadata": {},
   "source": [
    "### Neophodne biblioteke"
   ]
  },
  {
   "cell_type": "code",
   "execution_count": 1,
   "metadata": {},
   "outputs": [
    {
     "name": "stderr",
     "output_type": "stream",
     "text": [
      "Using Theano backend.\n"
     ]
    }
   ],
   "source": [
    "from __future__ import print_function\n",
    "\n",
    "%matplotlib inline\n",
    "import cv2\n",
    "import numpy as np \n",
    "import matplotlib.pyplot as plt \n",
    "import collections\n",
    "\n",
    "# keras\n",
    "from keras.models import Sequential\n",
    "from keras.layers.core import Dense,Activation\n",
    "from keras.optimizers import SGD\n",
    "\n",
    "import matplotlib.pylab as pylab\n",
    "pylab.rcParams['figure.figsize'] = 16, 12"
   ]
  },
  {
   "cell_type": "markdown",
   "metadata": {},
   "source": [
    "### Funkcije za rad sa slikama"
   ]
  },
  {
   "cell_type": "code",
   "execution_count": 2,
   "metadata": {
    "collapsed": true
   },
   "outputs": [],
   "source": [
    "def load_image(path):\n",
    "    return cv2.cvtColor(cv2.imread(path), cv2.COLOR_BGR2RGB)\n",
    "\n",
    "def image_gray(image):\n",
    "    return cv2.cvtColor(image, cv2.COLOR_RGB2GRAY)\n",
    "\n",
    "def image_bin(image_gs):\n",
    "    height, width = image_gs.shape[0:2]\n",
    "    image_binary = np.ndarray((height, width), dtype=np.uint8)\n",
    "    ret,image_bin = cv2.threshold(image_gs, 127, 255, cv2.THRESH_BINARY)\n",
    "    return image_bin\n",
    "\n",
    "def invert(image):\n",
    "    return 255-image\n",
    "\n",
    "def display_image(image, color= False):\n",
    "    if color:\n",
    "        plt.imshow(image)\n",
    "    else:\n",
    "        plt.imshow(image, 'gray')\n",
    "\n",
    "def dilate(image):\n",
    "    kernel = np.ones((3,3))\n",
    "    return cv2.dilate(image, kernel, iterations=1)\n",
    "\n",
    "def erode(image):\n",
    "    kernel = np.ones((3,3))\n",
    "    return cv2.erode(image, kernel, iterations=1)"
   ]
  },
  {
   "cell_type": "markdown",
   "metadata": {},
   "source": [
    "### Rad sa regionima\n",
    "\n",
    "Koristimo parametar cv2.RETR_EXTERNAL kako bismo izdvojili sve spoljne konturu."
   ]
  },
  {
   "cell_type": "code",
   "execution_count": 3,
   "metadata": {
    "collapsed": true
   },
   "outputs": [],
   "source": [
    "def resize_region(region):\n",
    "    '''Transformisati selektovani region na sliku dimenzija 28x28'''\n",
    "    return cv2.resize(region,(28,28), interpolation = cv2.INTER_NEAREST)\n",
    "\n",
    "def select_roi(image_orig, image_bin):\n",
    "    '''Oznaciti regione od interesa na originalnoj slici. (ROI = regions of interest)\n",
    "        Za svaki region napraviti posebnu sliku dimenzija 28 x 28. \n",
    "        Za označavanje regiona koristiti metodu cv2.boundingRect(contour).\n",
    "        Kao povratnu vrednost vratiti originalnu sliku na kojoj su obeleženi regioni\n",
    "        i niz slika koje predstavljaju regione sortirane po rastućoj vrednosti x ose\n",
    "    '''\n",
    "    img, contours, hierarchy = cv2.findContours(image_bin.copy(), cv2.RETR_EXTERNAL, cv2.CHAIN_APPROX_SIMPLE)\n",
    "    sorted_regions = [] # lista sortiranih regiona po x osi (sa leva na desno)\n",
    "    regions_array = []\n",
    "    for contour in contours: \n",
    "        x,y,w,h = cv2.boundingRect(contour) #koordinate i velicina granicnog pravougaonika\n",
    "        # kopirati [y:y+h+1, x:x+w+1] sa binarne slike i smestiti u novu sliku\n",
    "        # označiti region pravougaonikom na originalnoj slici (image_orig) sa rectangle funkcijom\n",
    "        region = image_bin[y:y+h+1,x:x+w+1]\n",
    "        regions_array.append([resize_region(region), (x,y,w,h)])       \n",
    "        cv2.rectangle(image_orig,(x,y),(x+w,y+h),(0,255,0),2)\n",
    "    \n",
    "    regions_array = sorted(regions_array, key=lambda item: item[1][0])\n",
    "    sorted_regions = sorted_regions = [region[0] for region in regions_array]\n",
    "    \n",
    "    # sortirati sve regione po x osi (sa leva na desno) i smestiti u promenljivu sorted_regions\n",
    "    return image_orig, sorted_regions"
   ]
  },
  {
   "cell_type": "markdown",
   "metadata": {},
   "source": [
    "### Priprema za neuronsku mrezu"
   ]
  },
  {
   "cell_type": "code",
   "execution_count": 4,
   "metadata": {
    "collapsed": true
   },
   "outputs": [],
   "source": [
    "def scale_to_range(image): # skalira elemente slike na opseg od 0 do 1\n",
    "    ''' Elementi matrice image su vrednosti 0 ili 255. \n",
    "        Potrebno je skalirati sve elemente matrica na opseg od 0 do 1\n",
    "    '''\n",
    "    return image/255\n",
    "\n",
    "def matrix_to_vector(image):\n",
    "    '''Sliku koja je zapravo matrica 28x28 transformisati u vektor sa 784 elementa'''\n",
    "    return image.flatten()\n",
    "\n",
    "def prepare_for_ann(regions):\n",
    "    '''Regioni su matrice dimenzija 28x28 čiji su elementi vrednosti 0 ili 255.\n",
    "        Potrebno je skalirati elemente regiona na [0,1] i transformisati ga u vektor od 784 elementa '''\n",
    "    ready_for_ann = []\n",
    "    for region in regions:\n",
    "        # skalirati elemente regiona \n",
    "        # region sa skaliranim elementima pretvoriti u vektor\n",
    "        # vektor dodati u listu spremnih regiona\n",
    "        scale = scale_to_range(region)\n",
    "        ready_for_ann.append(matrix_to_vector(scale))\n",
    "        \n",
    "    return ready_for_ann\n",
    "\n",
    "def convert_output(alphabet):\n",
    "    '''Konvertovati alfabet u niz pogodan za obučavanje NM,\n",
    "        odnosno niz čiji su svi elementi 0 osim elementa čiji je\n",
    "        indeks jednak indeksu elementa iz alfabeta za koji formiramo niz.\n",
    "        Primer prvi element iz alfabeta [1,0,0,0,0,0,0,0,0,0],\n",
    "        za drugi [0,1,0,0,0,0,0,0,0,0] itd..\n",
    "    '''\n",
    "    nn_outputs = []\n",
    "    for index in range(len(alphabet)):\n",
    "        output = np.zeros(len(alphabet))\n",
    "        output[index] = 1\n",
    "        nn_outputs.append(output)\n",
    "    return np.array(nn_outputs)"
   ]
  },
  {
   "cell_type": "markdown",
   "metadata": {},
   "source": [
    "### Kreiranje i obucavanje neuronske mreze\n",
    "\n",
    "Umesto da predefinisemo broj izlaznih neurona na 10, prosledicemo alfabet za koji pravimo neuronsku mrezu i njegovu velicinu koristiti kao broj izlaznih neurona."
   ]
  },
  {
   "cell_type": "code",
   "execution_count": 5,
   "metadata": {
    "collapsed": true
   },
   "outputs": [],
   "source": [
    "def create_ann(alphabet):\n",
    "    '''Implementacija veštačke neuronske mreže sa 784 neurona na uloznom sloju,\n",
    "        128 neurona u skrivenom sloju i 10 neurona na izlazu. Aktivaciona funkcija je sigmoid.\n",
    "    '''\n",
    "    ann = Sequential()\n",
    "    ann.add(Dense(128, input_dim=784, activation='sigmoid'))\n",
    "    ann.add(Dense(len(alphabet), activation='sigmoid'))\n",
    "    return ann\n",
    "\n",
    "def train_ann(ann, X_train, y_train):\n",
    "    '''Obucavanje vestacke neuronske mreze'''\n",
    "    X_train = np.array(X_train, np.float32) # dati ulazi\n",
    "    y_train = np.array(y_train, np.float32) # zeljeni izlazi za date ulaze\n",
    "   \n",
    "    # definisanje parametra algoritma za obucavanje\n",
    "    sgd = SGD(lr=0.01, momentum=0.9)\n",
    "    ann.compile(loss='mean_squared_error', optimizer=sgd)\n",
    "\n",
    "    # obucavanje neuronske mreze\n",
    "    ann.fit(X_train, y_train, epochs=2000, batch_size=1, verbose = 0, shuffle=False) \n",
    "      \n",
    "    return ann"
   ]
  },
  {
   "cell_type": "markdown",
   "metadata": {},
   "source": [
    "### Prikaz rezultata"
   ]
  },
  {
   "cell_type": "code",
   "execution_count": 6,
   "metadata": {
    "collapsed": true
   },
   "outputs": [],
   "source": [
    "def winner(output): # output je vektor sa izlaza neuronske mreze\n",
    "    '''pronaći i vratiti indeks neurona koji je najviše pobuđen'''\n",
    "    return max(enumerate(output), key=lambda x: x[1])[0]\n",
    "\n",
    "def display_result(outputs, alphabet):\n",
    "    '''za svaki rezultat pronaći indeks pobedničkog\n",
    "        regiona koji ujedno predstavlja i indeks u alfabetu.\n",
    "        Dodati karakter iz alfabet u result'''\n",
    "    result = []\n",
    "    for output in outputs:\n",
    "        result.append(alphabet[winner(output)])\n",
    "    return result"
   ]
  },
  {
   "cell_type": "markdown",
   "metadata": {},
   "source": [
    "## 2. Zadatak"
   ]
  },
  {
   "cell_type": "markdown",
   "metadata": {},
   "source": [
    "### Priprema i treniranje neuronske mreze"
   ]
  },
  {
   "cell_type": "code",
   "execution_count": 7,
   "metadata": {},
   "outputs": [
    {
     "data": {
      "image/png": "[encoded data removed]",
      "text/plain": [
       "<matplotlib.figure.Figure at 0x7f55eaf77b50>"
      ]
     },
     "metadata": {},
     "output_type": "display_data"
    }
   ],
   "source": [
    "# Ucitavanje i binarizacija slike alfabeta kalkulatora\n",
    "img_color = load_image('kalkulator_alfabet.png')\n",
    "img_bin = image_bin(image_gray(img_color))\n",
    "\n",
    "# Izdvajanje regiona sa karakterima alfabeta\n",
    "img_selected_regions, characters = select_roi(img_color, img_bin)\n",
    "display_image(img_selected_regions, True)\n",
    "\n",
    "# Unosimo alfabet i pripremamo ga za neuronsku mrezu \n",
    "alphabet_calc = ['0', '1', '2', '3', '4', '5', '6', '7', '8', '9', '+', '-', '*', '/']\n",
    "outputs = convert_output(alphabet_calc)\n",
    "\n",
    "# Priprema izdvojenih region sa karakterima\n",
    "inputs = prepare_for_ann(characters)\n",
    "\n",
    "# kreiranje neuronske mreze\n",
    "ann = create_ann(alphabet_calc)\n",
    "# treniranje neuronske mreze\n",
    "ann = train_ann(ann, inputs, outputs)\n",
    "\n"
   ]
  },
  {
   "cell_type": "markdown",
   "metadata": {},
   "source": [
    "### Testiranje"
   ]
  },
  {
   "cell_type": "markdown",
   "metadata": {},
   "source": [
    "#### Postupak testiranja\n",
    "\n",
    "1. Ucitavanje slike\n",
    "2. Priprema slike\n",
    "3. Izdvajanje regiona od interesa\n",
    "4. Priprema za ulaz na neuronsku mrezu\n",
    "5. Predikcija rezultata\n",
    "6. Izracunavanje izraza"
   ]
  },
  {
   "cell_type": "code",
   "execution_count": 8,
   "metadata": {
    "collapsed": true
   },
   "outputs": [],
   "source": [
    "def predict_result(path, alphabet):\n",
    "    \"\"\"\n",
    "        Proces prepoznavanja i izracunavanja izraza prikazanog na slici.\n",
    "    \"\"\"\n",
    "    # priprema slike\n",
    "    img_color = load_image(path)\n",
    "    img_bin = image_bin(image_gray(img_color))\n",
    "    # izdvajanje regiona\n",
    "    img_selected_regions, characters = select_roi(img_color, img_bin)\n",
    "    display_image(img_selected_regions, True)\n",
    "    # priprema za ulaz u ann\n",
    "    test_inputs = prepare_for_ann(characters)\n",
    "    # predikacija\n",
    "    result = ann.predict(np.array(test_inputs, np.float32))\n",
    "    result_str = \"\".join(display_result(result, alphabet))\n",
    "    print(\"%s=%d\" % (result_str, eval(result_str)))"
   ]
  },
  {
   "cell_type": "markdown",
   "metadata": {},
   "source": [
    "#### Test 1 (sabiranje.png)"
   ]
  },
  {
   "cell_type": "code",
   "execution_count": 9,
   "metadata": {},
   "outputs": [
    {
     "name": "stdout",
     "output_type": "stream",
     "text": [
      "3+2=5\n"
     ]
    },
    {
     "data": {
      "image/png": "[encoded data removed]",
      "text/plain": [
       "<matplotlib.figure.Figure at 0x7f55eaf77a50>"
      ]
     },
     "metadata": {},
     "output_type": "display_data"
    }
   ],
   "source": [
    "predict_result('sabiranje.png', alphabet_calc)\n",
    "\n"
   ]
  },
  {
   "cell_type": "markdown",
   "metadata": {},
   "source": [
    "#### Test 2 (oduzimanje.png)"
   ]
  },
  {
   "cell_type": "code",
   "execution_count": 10,
   "metadata": {},
   "outputs": [
    {
     "name": "stdout",
     "output_type": "stream",
     "text": [
      "9-4=5\n"
     ]
    },
    {
     "data": {
      "image/png": "[encoded data removed]",
      "text/plain": [
       "<matplotlib.figure.Figure at 0x7f55eaf779d0>"
      ]
     },
     "metadata": {},
     "output_type": "display_data"
    }
   ],
   "source": [
    "predict_result('oduzimanje.png', alphabet_calc)\n"
   ]
  },
  {
   "cell_type": "markdown",
   "metadata": {},
   "source": [
    "#### Test 3 (slozen_izraz.png)"
   ]
  },
  {
   "cell_type": "code",
   "execution_count": 11,
   "metadata": {},
   "outputs": [
    {
     "name": "stdout",
     "output_type": "stream",
     "text": [
      "9/3+3*2-1=8\n"
     ]
    },
    {
     "data": {
      "image/png": "[encoded data removed]",
      "text/plain": [
       "<matplotlib.figure.Figure at 0x7f55880dccd0>"
      ]
     },
     "metadata": {},
     "output_type": "display_data"
    }
   ],
   "source": [
    "predict_result('slozen_izraz.png', alphabet_calc)"
   ]
  },
  {
   "cell_type": "code",
   "execution_count": null,
   "metadata": {
    "collapsed": true
   },
   "outputs": [],
   "source": []
  }
 ],
 "metadata": {
  "kernelspec": {
   "display_name": "Python 2",
   "language": "python",
   "name": "python2"
  },
  "language_info": {
   "codemirror_mode": {
    "name": "ipython",
    "version": 2
   },
   "file_extension": ".py",
   "mimetype": "text/x-python",
   "name": "python",
   "nbconvert_exporter": "python",
   "pygments_lexer": "ipython2",
   "version": "2.7.11"
  }
 },
 "nbformat": 4,
 "nbformat_minor": 2
}
